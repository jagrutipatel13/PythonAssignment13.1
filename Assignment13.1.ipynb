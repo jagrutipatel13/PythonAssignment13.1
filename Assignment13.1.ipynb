{
 "cells": [
  {
   "cell_type": "code",
   "execution_count": 1,
   "metadata": {
    "collapsed": true
   },
   "outputs": [],
   "source": [
    "import pandas as pd\n",
    "import numpy as np"
   ]
  },
  {
   "cell_type": "code",
   "execution_count": 2,
   "metadata": {
    "collapsed": true
   },
   "outputs": [],
   "source": [
    "df = pd.DataFrame({'From_To': ['LoNDon_paris', 'MAdrid_miLAN', 'londON_StockhOlm',\n",
    "                  'Budapest_PaRis', 'Brussels_londOn'],\n",
    "                  'FlightNumber': [10045, np.nan, 10065, np.nan, 10085],\n",
    "                  'RecentDelays': [[23, 47], [], [24, 43, 87], [13], [67, 32]],\n",
    "                  'Airline': ['KLM(!)', '<Air France> (12)', '(British Airways. )',\n",
    "                  '12. Air France', '\"Swiss Air\"']})\n"
   ]
  },
  {
   "cell_type": "code",
   "execution_count": 3,
   "metadata": {},
   "outputs": [],
   "source": [
    "# 1.Some values in the the FlightNumber column are missing. These numbers are meant to increase by 10 with each row so 10055 and 10075 need to be put in place. Fill in these missing numbers and make the column an integer column"
   ]
  },
  {
   "cell_type": "code",
   "execution_count": 4,
   "metadata": {},
   "outputs": [
    {
     "name": "stderr",
     "output_type": "stream",
     "text": [
      "C:\\Users\\jagrutip\\AppData\\Local\\Continuum\\anaconda3\\lib\\site-packages\\pandas\\core\\indexing.py:179: SettingWithCopyWarning: \n",
      "A value is trying to be set on a copy of a slice from a DataFrame\n",
      "\n",
      "See the caveats in the documentation: http://pandas.pydata.org/pandas-docs/stable/indexing.html#indexing-view-versus-copy\n",
      "  self._setitem_with_indexer(indexer, value)\n"
     ]
    }
   ],
   "source": [
    "df['FlightNumber'].loc[1] = (df['FlightNumber'].iloc[0] + 10)\n",
    "df['FlightNumber'].loc[3] = (df['FlightNumber'].iloc[2] + 10)\n",
    "df['FlightNumber'] = df['FlightNumber'].astype(int)"
   ]
  },
  {
   "cell_type": "code",
   "execution_count": 5,
   "metadata": {},
   "outputs": [
    {
     "name": "stdout",
     "output_type": "stream",
     "text": [
      "0    10045\n",
      "1    10055\n",
      "2    10065\n",
      "3    10075\n",
      "4    10085\n",
      "Name: FlightNumber, dtype: int32\n"
     ]
    }
   ],
   "source": [
    "print(df['FlightNumber'])"
   ]
  },
  {
   "cell_type": "code",
   "execution_count": 6,
   "metadata": {
    "collapsed": true
   },
   "outputs": [],
   "source": [
    "#2.The From_To column would be better as two separate columns! Split each string on the underscore delimiter _ to give a new temporary DataFrame with the correct values.Assign the correct column names to this temporary DataFrame."
   ]
  },
  {
   "cell_type": "code",
   "execution_count": 7,
   "metadata": {},
   "outputs": [],
   "source": [
    "tDF = pd.DataFrame(df.From_To)\n",
    "tDF['From'] = tDF.From_To.str.split('_').str.get(0)\n",
    "tDF['To'] = tDF.From_To.str.split('_').str.get(1)\n",
    "tDF = tDF.drop('From_To', 1)"
   ]
  },
  {
   "cell_type": "code",
   "execution_count": 8,
   "metadata": {
    "collapsed": true
   },
   "outputs": [],
   "source": [
    "#3.Standardise the strings in the temporary DataFrame, so that only the first letter is uppercase. "
   ]
  },
  {
   "cell_type": "code",
   "execution_count": 9,
   "metadata": {
    "collapsed": true
   },
   "outputs": [],
   "source": [
    "tDF['From'] = tDF.From.str.title()\n",
    "tDF['To'] = tDF.To.str.title()"
   ]
  },
  {
   "cell_type": "code",
   "execution_count": 10,
   "metadata": {},
   "outputs": [
    {
     "name": "stdout",
     "output_type": "stream",
     "text": [
      "0      London\n",
      "1      Madrid\n",
      "2      London\n",
      "3    Budapest\n",
      "4    Brussels\n",
      "Name: From, dtype: object\n"
     ]
    }
   ],
   "source": [
    "print(tDF['From'])"
   ]
  },
  {
   "cell_type": "code",
   "execution_count": 11,
   "metadata": {},
   "outputs": [
    {
     "name": "stdout",
     "output_type": "stream",
     "text": [
      "0        Paris\n",
      "1        Milan\n",
      "2    Stockholm\n",
      "3        Paris\n",
      "4       London\n",
      "Name: To, dtype: object\n"
     ]
    }
   ],
   "source": [
    "print(tDF['To'])"
   ]
  },
  {
   "cell_type": "code",
   "execution_count": 12,
   "metadata": {
    "collapsed": true
   },
   "outputs": [],
   "source": [
    "#4.Delete the From_To column from df, and attach the temporary DataFrame from the previous questions."
   ]
  },
  {
   "cell_type": "code",
   "execution_count": 13,
   "metadata": {
    "collapsed": true
   },
   "outputs": [],
   "source": [
    "df = df.drop('From_To', 1)\n",
    "df = pd.concat([tDF,df], axis = 1)"
   ]
  },
  {
   "cell_type": "code",
   "execution_count": 14,
   "metadata": {
    "collapsed": true
   },
   "outputs": [],
   "source": [
    "# 5.Expand the series of delays into a DataFrame named \"delays\". Each delay value should be in its own column. Missing values should be NaN. Rename the columns: delay_1, delay_2, etc. Replace RecentDelays with this DataFrame. "
   ]
  },
  {
   "cell_type": "code",
   "execution_count": 15,
   "metadata": {
    "collapsed": true
   },
   "outputs": [],
   "source": [
    "tDelay = pd.DataFrame(df.RecentDelays)\n",
    "tDelay = pd.DataFrame(df['RecentDelays'].values.tolist())\n",
    "tDelay.columns = ['Delay_1', 'Delay_2', 'Delay_3']\n",
    "df = df.drop('RecentDelays', 1)\n",
    "df.insert(3, \"Delay_1\", tDelay['Delay_1'])\n",
    "df.insert(4, \"Delay_2\", tDelay['Delay_2'])\n",
    "df.insert(5, \"Delay_3\", tDelay['Delay_3'])\n",
    "\n"
   ]
  },
  {
   "cell_type": "code",
   "execution_count": 16,
   "metadata": {},
   "outputs": [
    {
     "name": "stdout",
     "output_type": "stream",
     "text": [
      "       From         To              Airline  Delay_1  Delay_2  Delay_3  \\\n",
      "0    London      Paris               KLM(!)     23.0     47.0      NaN   \n",
      "1    Madrid      Milan    <Air France> (12)      NaN      NaN      NaN   \n",
      "2    London  Stockholm  (British Airways. )     24.0     43.0     87.0   \n",
      "3  Budapest      Paris       12. Air France     13.0      NaN      NaN   \n",
      "4  Brussels     London          \"Swiss Air\"     67.0     32.0      NaN   \n",
      "\n",
      "   FlightNumber  \n",
      "0         10045  \n",
      "1         10055  \n",
      "2         10065  \n",
      "3         10075  \n",
      "4         10085  \n"
     ]
    }
   ],
   "source": [
    "print(df)"
   ]
  }
 ],
 "metadata": {
  "kernelspec": {
   "display_name": "Python 3",
   "language": "python",
   "name": "python3"
  },
  "language_info": {
   "codemirror_mode": {
    "name": "ipython",
    "version": 3
   },
   "file_extension": ".py",
   "mimetype": "text/x-python",
   "name": "python",
   "nbconvert_exporter": "python",
   "pygments_lexer": "ipython3",
   "version": "3.6.3"
  }
 },
 "nbformat": 4,
 "nbformat_minor": 2
}
